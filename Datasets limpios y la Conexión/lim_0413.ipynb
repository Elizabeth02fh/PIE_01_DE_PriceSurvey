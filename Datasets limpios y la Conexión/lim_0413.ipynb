{
 "cells": [
  {
   "cell_type": "code",
   "execution_count": 9,
   "metadata": {},
   "outputs": [
    {
     "data": {
      "text/html": [
       "<div>\n",
       "<style scoped>\n",
       "    .dataframe tbody tr th:only-of-type {\n",
       "        vertical-align: middle;\n",
       "    }\n",
       "\n",
       "    .dataframe tbody tr th {\n",
       "        vertical-align: top;\n",
       "    }\n",
       "\n",
       "    .dataframe thead th {\n",
       "        text-align: right;\n",
       "    }\n",
       "</style>\n",
       "<table border=\"1\" class=\"dataframe\">\n",
       "  <thead>\n",
       "    <tr style=\"text-align: right;\">\n",
       "      <th></th>\n",
       "      <th>precio</th>\n",
       "      <th>producto_id</th>\n",
       "      <th>sucursal_id</th>\n",
       "    </tr>\n",
       "  </thead>\n",
       "  <tbody>\n",
       "    <tr>\n",
       "      <th>0</th>\n",
       "      <td>29.90</td>\n",
       "      <td>0000000001663</td>\n",
       "      <td>2-1-014</td>\n",
       "    </tr>\n",
       "    <tr>\n",
       "      <th>1</th>\n",
       "      <td>29.90</td>\n",
       "      <td>0000000002288</td>\n",
       "      <td>2-1-032</td>\n",
       "    </tr>\n",
       "    <tr>\n",
       "      <th>2</th>\n",
       "      <td>39.90</td>\n",
       "      <td>0000000002288</td>\n",
       "      <td>2-1-096</td>\n",
       "    </tr>\n",
       "    <tr>\n",
       "      <th>3</th>\n",
       "      <td>499.99</td>\n",
       "      <td>0000000205870</td>\n",
       "      <td>9-1-686</td>\n",
       "    </tr>\n",
       "    <tr>\n",
       "      <th>4</th>\n",
       "      <td>519.99</td>\n",
       "      <td>0000000205870</td>\n",
       "      <td>9-2-248</td>\n",
       "    </tr>\n",
       "  </tbody>\n",
       "</table>\n",
       "</div>"
      ],
      "text/plain": [
       "   precio    producto_id sucursal_id\n",
       "0   29.90  0000000001663     2-1-014\n",
       "1   29.90  0000000002288     2-1-032\n",
       "2   39.90  0000000002288     2-1-096\n",
       "3  499.99  0000000205870     9-1-686\n",
       "4  519.99  0000000205870     9-2-248"
      ]
     },
     "execution_count": 9,
     "metadata": {},
     "output_type": "execute_result"
    }
   ],
   "source": [
    "import pandas as pd\n",
    "df = pd.read_csv(r\"precios_semana_20200413.csv\", sep=\",\", encoding=\"utf-8\")\n",
    "df.head(5)"
   ]
  },
  {
   "cell_type": "code",
   "execution_count": 10,
   "metadata": {},
   "outputs": [],
   "source": [
    "#rellena los datos nulos, en base al valor de la siguiente fila.\n",
    "df=df.fillna(method=\"bfill\")"
   ]
  },
  {
   "cell_type": "code",
   "execution_count": 11,
   "metadata": {},
   "outputs": [
    {
     "data": {
      "text/plain": [
       "precio         0\n",
       "producto_id    0\n",
       "sucursal_id    0\n",
       "dtype: int64"
      ]
     },
     "execution_count": 11,
     "metadata": {},
     "output_type": "execute_result"
    }
   ],
   "source": [
    "contador1=df.isnull().sum()\n",
    "contador1"
   ]
  },
  {
   "cell_type": "code",
   "execution_count": 12,
   "metadata": {},
   "outputs": [
    {
     "data": {
      "text/html": [
       "<div>\n",
       "<style scoped>\n",
       "    .dataframe tbody tr th:only-of-type {\n",
       "        vertical-align: middle;\n",
       "    }\n",
       "\n",
       "    .dataframe tbody tr th {\n",
       "        vertical-align: top;\n",
       "    }\n",
       "\n",
       "    .dataframe thead th {\n",
       "        text-align: right;\n",
       "    }\n",
       "</style>\n",
       "<table border=\"1\" class=\"dataframe\">\n",
       "  <thead>\n",
       "    <tr style=\"text-align: right;\">\n",
       "      <th></th>\n",
       "      <th>precio</th>\n",
       "      <th>producto_id</th>\n",
       "      <th>sucursal_id</th>\n",
       "    </tr>\n",
       "  </thead>\n",
       "  <tbody>\n",
       "    <tr>\n",
       "      <th>0</th>\n",
       "      <td>29.90</td>\n",
       "      <td>0000000001663</td>\n",
       "      <td>2-1-014</td>\n",
       "    </tr>\n",
       "    <tr>\n",
       "      <th>1</th>\n",
       "      <td>29.90</td>\n",
       "      <td>0000000002288</td>\n",
       "      <td>2-1-032</td>\n",
       "    </tr>\n",
       "    <tr>\n",
       "      <th>2</th>\n",
       "      <td>39.90</td>\n",
       "      <td>0000000002288</td>\n",
       "      <td>2-1-096</td>\n",
       "    </tr>\n",
       "    <tr>\n",
       "      <th>3</th>\n",
       "      <td>499.99</td>\n",
       "      <td>0000000205870</td>\n",
       "      <td>9-1-686</td>\n",
       "    </tr>\n",
       "    <tr>\n",
       "      <th>4</th>\n",
       "      <td>519.99</td>\n",
       "      <td>0000000205870</td>\n",
       "      <td>9-2-248</td>\n",
       "    </tr>\n",
       "  </tbody>\n",
       "</table>\n",
       "</div>"
      ],
      "text/plain": [
       "   precio    producto_id sucursal_id\n",
       "0   29.90  0000000001663     2-1-014\n",
       "1   29.90  0000000002288     2-1-032\n",
       "2   39.90  0000000002288     2-1-096\n",
       "3  499.99  0000000205870     9-1-686\n",
       "4  519.99  0000000205870     9-2-248"
      ]
     },
     "execution_count": 12,
     "metadata": {},
     "output_type": "execute_result"
    }
   ],
   "source": [
    "df.head()"
   ]
  },
  {
   "cell_type": "code",
   "execution_count": 13,
   "metadata": {},
   "outputs": [
    {
     "data": {
      "text/html": [
       "<div>\n",
       "<style scoped>\n",
       "    .dataframe tbody tr th:only-of-type {\n",
       "        vertical-align: middle;\n",
       "    }\n",
       "\n",
       "    .dataframe tbody tr th {\n",
       "        vertical-align: top;\n",
       "    }\n",
       "\n",
       "    .dataframe thead th {\n",
       "        text-align: right;\n",
       "    }\n",
       "</style>\n",
       "<table border=\"1\" class=\"dataframe\">\n",
       "  <thead>\n",
       "    <tr style=\"text-align: right;\">\n",
       "      <th></th>\n",
       "      <th>precio</th>\n",
       "      <th>producto_id</th>\n",
       "      <th>sucursal_id</th>\n",
       "    </tr>\n",
       "  </thead>\n",
       "  <tbody>\n",
       "    <tr>\n",
       "      <th>0</th>\n",
       "      <td>29.90</td>\n",
       "      <td>0000000001663</td>\n",
       "      <td>2-1-014</td>\n",
       "    </tr>\n",
       "    <tr>\n",
       "      <th>1</th>\n",
       "      <td>29.90</td>\n",
       "      <td>0000000002288</td>\n",
       "      <td>2-1-032</td>\n",
       "    </tr>\n",
       "    <tr>\n",
       "      <th>2</th>\n",
       "      <td>39.90</td>\n",
       "      <td>0000000002288</td>\n",
       "      <td>2-1-096</td>\n",
       "    </tr>\n",
       "    <tr>\n",
       "      <th>3</th>\n",
       "      <td>499.99</td>\n",
       "      <td>0000000205870</td>\n",
       "      <td>9-1-686</td>\n",
       "    </tr>\n",
       "    <tr>\n",
       "      <th>4</th>\n",
       "      <td>519.99</td>\n",
       "      <td>0000000205870</td>\n",
       "      <td>9-2-248</td>\n",
       "    </tr>\n",
       "  </tbody>\n",
       "</table>\n",
       "</div>"
      ],
      "text/plain": [
       "   precio    producto_id sucursal_id\n",
       "0   29.90  0000000001663     2-1-014\n",
       "1   29.90  0000000002288     2-1-032\n",
       "2   39.90  0000000002288     2-1-096\n",
       "3  499.99  0000000205870     9-1-686\n",
       "4  519.99  0000000205870     9-2-248"
      ]
     },
     "execution_count": 13,
     "metadata": {},
     "output_type": "execute_result"
    }
   ],
   "source": [
    "df.head(5)"
   ]
  },
  {
   "cell_type": "code",
   "execution_count": 14,
   "metadata": {},
   "outputs": [
    {
     "name": "stderr",
     "output_type": "stream",
     "text": [
      "C:\\Users\\HP SUPPORT\\AppData\\Local\\Temp\\ipykernel_11844\\219681451.py:3: SettingWithCopyWarning: \n",
      "A value is trying to be set on a copy of a slice from a DataFrame\n",
      "\n",
      "See the caveats in the documentation: https://pandas.pydata.org/pandas-docs/stable/user_guide/indexing.html#returning-a-view-versus-a-copy\n",
      "  df['precio'][i] = str(df['precio'][i])\n"
     ]
    }
   ],
   "source": [
    "#cambiamos de \".\" a \",\"\n",
    "for i, elemento in enumerate(df['precio']):\n",
    "   df['precio'][i] = str(df['precio'][i])\n",
    "   #Transformaciones en los campos numéricos\n",
    "for i, elemento in enumerate(df['precio']):\n",
    "   elemento = elemento.replace('.', ',')\n",
    "   df['precio'][i] = elemento"
   ]
  },
  {
   "cell_type": "code",
   "execution_count": 15,
   "metadata": {},
   "outputs": [
    {
     "data": {
      "text/html": [
       "<div>\n",
       "<style scoped>\n",
       "    .dataframe tbody tr th:only-of-type {\n",
       "        vertical-align: middle;\n",
       "    }\n",
       "\n",
       "    .dataframe tbody tr th {\n",
       "        vertical-align: top;\n",
       "    }\n",
       "\n",
       "    .dataframe thead th {\n",
       "        text-align: right;\n",
       "    }\n",
       "</style>\n",
       "<table border=\"1\" class=\"dataframe\">\n",
       "  <thead>\n",
       "    <tr style=\"text-align: right;\">\n",
       "      <th></th>\n",
       "      <th>precio</th>\n",
       "      <th>producto_id</th>\n",
       "      <th>sucursal_id</th>\n",
       "    </tr>\n",
       "  </thead>\n",
       "  <tbody>\n",
       "    <tr>\n",
       "      <th>0</th>\n",
       "      <td>29,9</td>\n",
       "      <td>0000000001663</td>\n",
       "      <td>2-1-014</td>\n",
       "    </tr>\n",
       "    <tr>\n",
       "      <th>1</th>\n",
       "      <td>29,9</td>\n",
       "      <td>0000000002288</td>\n",
       "      <td>2-1-032</td>\n",
       "    </tr>\n",
       "    <tr>\n",
       "      <th>2</th>\n",
       "      <td>39,9</td>\n",
       "      <td>0000000002288</td>\n",
       "      <td>2-1-096</td>\n",
       "    </tr>\n",
       "    <tr>\n",
       "      <th>3</th>\n",
       "      <td>499,99</td>\n",
       "      <td>0000000205870</td>\n",
       "      <td>9-1-686</td>\n",
       "    </tr>\n",
       "    <tr>\n",
       "      <th>4</th>\n",
       "      <td>519,99</td>\n",
       "      <td>0000000205870</td>\n",
       "      <td>9-2-248</td>\n",
       "    </tr>\n",
       "  </tbody>\n",
       "</table>\n",
       "</div>"
      ],
      "text/plain": [
       "   precio    producto_id sucursal_id\n",
       "0    29,9  0000000001663     2-1-014\n",
       "1    29,9  0000000002288     2-1-032\n",
       "2    39,9  0000000002288     2-1-096\n",
       "3  499,99  0000000205870     9-1-686\n",
       "4  519,99  0000000205870     9-2-248"
      ]
     },
     "execution_count": 15,
     "metadata": {},
     "output_type": "execute_result"
    }
   ],
   "source": [
    "df.head()"
   ]
  },
  {
   "cell_type": "code",
   "execution_count": 16,
   "metadata": {},
   "outputs": [],
   "source": [
    "df.to_csv('precios_semana_20200413_ok.csv', index=False)"
   ]
  }
 ],
 "metadata": {
  "kernelspec": {
   "display_name": "Python 3.10.4 64-bit",
   "language": "python",
   "name": "python3"
  },
  "language_info": {
   "codemirror_mode": {
    "name": "ipython",
    "version": 3
   },
   "file_extension": ".py",
   "mimetype": "text/x-python",
   "name": "python",
   "nbconvert_exporter": "python",
   "pygments_lexer": "ipython3",
   "version": "3.10.4"
  },
  "orig_nbformat": 4,
  "vscode": {
   "interpreter": {
    "hash": "c01cf4a2356650b355da24661dd0626acaa1665bc8e66dede1d15fa072b6b8b3"
   }
  }
 },
 "nbformat": 4,
 "nbformat_minor": 2
}
