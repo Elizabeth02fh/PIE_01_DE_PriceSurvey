{
 "cells": [
  {
   "cell_type": "code",
   "execution_count": 2,
   "metadata": {},
   "outputs": [],
   "source": [
    "import pandas as pd\n",
    "df = pd.read_csv(r\"precios_semanas_20200426.csv\", sep=\",\", encoding=\"Latin-1\")"
   ]
  },
  {
   "cell_type": "code",
   "execution_count": 3,
   "metadata": {},
   "outputs": [],
   "source": [
    "#rellena los datos nulos, en base al valor de la siguiente fila.\n",
    "df=df.fillna(method=\"bfill\")"
   ]
  },
  {
   "cell_type": "code",
   "execution_count": 4,
   "metadata": {},
   "outputs": [
    {
     "data": {
      "text/plain": [
       "precio         0\n",
       "sucursal_id    0\n",
       "producto_id    0\n",
       "dtype: int64"
      ]
     },
     "execution_count": 4,
     "metadata": {},
     "output_type": "execute_result"
    }
   ],
   "source": [
    "df.isnull().sum()"
   ]
  },
  {
   "cell_type": "code",
   "execution_count": 5,
   "metadata": {},
   "outputs": [
    {
     "data": {
      "text/html": [
       "<div>\n",
       "<style scoped>\n",
       "    .dataframe tbody tr th:only-of-type {\n",
       "        vertical-align: middle;\n",
       "    }\n",
       "\n",
       "    .dataframe tbody tr th {\n",
       "        vertical-align: top;\n",
       "    }\n",
       "\n",
       "    .dataframe thead th {\n",
       "        text-align: right;\n",
       "    }\n",
       "</style>\n",
       "<table border=\"1\" class=\"dataframe\">\n",
       "  <thead>\n",
       "    <tr style=\"text-align: right;\">\n",
       "      <th></th>\n",
       "      <th>precio</th>\n",
       "      <th>sucursal_id</th>\n",
       "      <th>producto_id</th>\n",
       "    </tr>\n",
       "  </thead>\n",
       "  <tbody>\n",
       "    <tr>\n",
       "      <th>0</th>\n",
       "      <td>399.0</td>\n",
       "      <td>2-1-092</td>\n",
       "      <td>2288.0</td>\n",
       "    </tr>\n",
       "    <tr>\n",
       "      <th>1</th>\n",
       "      <td>299.0</td>\n",
       "      <td>2-1-206</td>\n",
       "      <td>2288.0</td>\n",
       "    </tr>\n",
       "    <tr>\n",
       "      <th>2</th>\n",
       "      <td>399.0</td>\n",
       "      <td>2-2-241</td>\n",
       "      <td>2288.0</td>\n",
       "    </tr>\n",
       "    <tr>\n",
       "      <th>3</th>\n",
       "      <td>49999.0</td>\n",
       "      <td>9-1-430</td>\n",
       "      <td>205870.0</td>\n",
       "    </tr>\n",
       "    <tr>\n",
       "      <th>4</th>\n",
       "      <td>53999.0</td>\n",
       "      <td>9-2-4</td>\n",
       "      <td>205870.0</td>\n",
       "    </tr>\n",
       "  </tbody>\n",
       "</table>\n",
       "</div>"
      ],
      "text/plain": [
       "    precio sucursal_id  producto_id\n",
       "0    399.0     2-1-092       2288.0\n",
       "1    299.0     2-1-206       2288.0\n",
       "2    399.0     2-2-241       2288.0\n",
       "3  49999.0     9-1-430     205870.0\n",
       "4  53999.0       9-2-4     205870.0"
      ]
     },
     "execution_count": 5,
     "metadata": {},
     "output_type": "execute_result"
    }
   ],
   "source": [
    "df.head(5)"
   ]
  },
  {
   "cell_type": "code",
   "execution_count": 6,
   "metadata": {},
   "outputs": [],
   "source": [
    "#remueve lo q encuentra\n",
    "df['producto_id'] = df['producto_id'].astype('string').str.rstrip('.0')"
   ]
  },
  {
   "cell_type": "code",
   "execution_count": 7,
   "metadata": {},
   "outputs": [
    {
     "data": {
      "text/html": [
       "<div>\n",
       "<style scoped>\n",
       "    .dataframe tbody tr th:only-of-type {\n",
       "        vertical-align: middle;\n",
       "    }\n",
       "\n",
       "    .dataframe tbody tr th {\n",
       "        vertical-align: top;\n",
       "    }\n",
       "\n",
       "    .dataframe thead th {\n",
       "        text-align: right;\n",
       "    }\n",
       "</style>\n",
       "<table border=\"1\" class=\"dataframe\">\n",
       "  <thead>\n",
       "    <tr style=\"text-align: right;\">\n",
       "      <th></th>\n",
       "      <th>precio</th>\n",
       "      <th>sucursal_id</th>\n",
       "      <th>producto_id</th>\n",
       "    </tr>\n",
       "  </thead>\n",
       "  <tbody>\n",
       "    <tr>\n",
       "      <th>0</th>\n",
       "      <td>399.0</td>\n",
       "      <td>2-1-092</td>\n",
       "      <td>0000000002288</td>\n",
       "    </tr>\n",
       "    <tr>\n",
       "      <th>1</th>\n",
       "      <td>299.0</td>\n",
       "      <td>2-1-206</td>\n",
       "      <td>0000000002288</td>\n",
       "    </tr>\n",
       "    <tr>\n",
       "      <th>2</th>\n",
       "      <td>399.0</td>\n",
       "      <td>2-2-241</td>\n",
       "      <td>0000000002288</td>\n",
       "    </tr>\n",
       "    <tr>\n",
       "      <th>3</th>\n",
       "      <td>49999.0</td>\n",
       "      <td>9-1-430</td>\n",
       "      <td>0000000020587</td>\n",
       "    </tr>\n",
       "    <tr>\n",
       "      <th>4</th>\n",
       "      <td>53999.0</td>\n",
       "      <td>9-2-4</td>\n",
       "      <td>0000000020587</td>\n",
       "    </tr>\n",
       "  </tbody>\n",
       "</table>\n",
       "</div>"
      ],
      "text/plain": [
       "    precio sucursal_id    producto_id\n",
       "0    399.0     2-1-092  0000000002288\n",
       "1    299.0     2-1-206  0000000002288\n",
       "2    399.0     2-2-241  0000000002288\n",
       "3  49999.0     9-1-430  0000000020587\n",
       "4  53999.0       9-2-4  0000000020587"
      ]
     },
     "execution_count": 7,
     "metadata": {},
     "output_type": "execute_result"
    }
   ],
   "source": [
    "#llena de full 0 hasta llegar a 13 digitos\n",
    "df['producto_id'] = df['producto_id'].str.zfill(13)\n",
    "df.head()"
   ]
  },
  {
   "cell_type": "code",
   "execution_count": 8,
   "metadata": {},
   "outputs": [
    {
     "name": "stderr",
     "output_type": "stream",
     "text": [
      "C:\\Users\\HP SUPPORT\\AppData\\Local\\Temp\\ipykernel_11384\\219681451.py:3: SettingWithCopyWarning: \n",
      "A value is trying to be set on a copy of a slice from a DataFrame\n",
      "\n",
      "See the caveats in the documentation: https://pandas.pydata.org/pandas-docs/stable/user_guide/indexing.html#returning-a-view-versus-a-copy\n",
      "  df['precio'][i] = str(df['precio'][i])\n"
     ]
    }
   ],
   "source": [
    "#cambiamos de \".\" a \",\"\n",
    "for i, elemento in enumerate(df['precio']):\n",
    "   df['precio'][i] = str(df['precio'][i])\n",
    "   #Transformaciones en los campos numéricos\n",
    "for i, elemento in enumerate(df['precio']):\n",
    "   elemento = elemento.replace('.', ',')\n",
    "   df['precio'][i] = elemento"
   ]
  },
  {
   "cell_type": "code",
   "execution_count": 57,
   "metadata": {},
   "outputs": [
    {
     "data": {
      "text/html": [
       "<div>\n",
       "<style scoped>\n",
       "    .dataframe tbody tr th:only-of-type {\n",
       "        vertical-align: middle;\n",
       "    }\n",
       "\n",
       "    .dataframe tbody tr th {\n",
       "        vertical-align: top;\n",
       "    }\n",
       "\n",
       "    .dataframe thead th {\n",
       "        text-align: right;\n",
       "    }\n",
       "</style>\n",
       "<table border=\"1\" class=\"dataframe\">\n",
       "  <thead>\n",
       "    <tr style=\"text-align: right;\">\n",
       "      <th></th>\n",
       "      <th>precio</th>\n",
       "      <th>sucursal_id</th>\n",
       "      <th>producto_id</th>\n",
       "    </tr>\n",
       "  </thead>\n",
       "  <tbody>\n",
       "    <tr>\n",
       "      <th>151617</th>\n",
       "      <td>2430,0</td>\n",
       "      <td>9-3-5277</td>\n",
       "      <td>0779038701431</td>\n",
       "    </tr>\n",
       "    <tr>\n",
       "      <th>417546</th>\n",
       "      <td>3620,0</td>\n",
       "      <td>10-2-176</td>\n",
       "      <td>0779809517025</td>\n",
       "    </tr>\n",
       "    <tr>\n",
       "      <th>26739</th>\n",
       "      <td>1630,0</td>\n",
       "      <td>10-1-112</td>\n",
       "      <td>4005900072757</td>\n",
       "    </tr>\n",
       "    <tr>\n",
       "      <th>248257</th>\n",
       "      <td>1560,0</td>\n",
       "      <td>2-3-248</td>\n",
       "      <td>7791290011953</td>\n",
       "    </tr>\n",
       "    <tr>\n",
       "      <th>88917</th>\n",
       "      <td>4099,0</td>\n",
       "      <td>7-1-37</td>\n",
       "      <td>7790040534506</td>\n",
       "    </tr>\n",
       "    <tr>\n",
       "      <th>...</th>\n",
       "      <td>...</td>\n",
       "      <td>...</td>\n",
       "      <td>...</td>\n",
       "    </tr>\n",
       "    <tr>\n",
       "      <th>283057</th>\n",
       "      <td>3269,0</td>\n",
       "      <td>14-1-8</td>\n",
       "      <td>7791600844561</td>\n",
       "    </tr>\n",
       "    <tr>\n",
       "      <th>208893</th>\n",
       "      <td>13599,0</td>\n",
       "      <td>11-5-3603</td>\n",
       "      <td>0007790895001</td>\n",
       "    </tr>\n",
       "    <tr>\n",
       "      <th>223581</th>\n",
       "      <td>1278,0</td>\n",
       "      <td>11-5-1002</td>\n",
       "      <td>7790990586808</td>\n",
       "    </tr>\n",
       "    <tr>\n",
       "      <th>141761</th>\n",
       "      <td>2090,0</td>\n",
       "      <td>10-1-210</td>\n",
       "      <td>7790310981795</td>\n",
       "    </tr>\n",
       "    <tr>\n",
       "      <th>244811</th>\n",
       "      <td>1171,0</td>\n",
       "      <td>1-1-7</td>\n",
       "      <td>7791290008465</td>\n",
       "    </tr>\n",
       "  </tbody>\n",
       "</table>\n",
       "<p>100 rows × 3 columns</p>\n",
       "</div>"
      ],
      "text/plain": [
       "         precio sucursal_id    producto_id\n",
       "151617   2430,0    9-3-5277  0779038701431\n",
       "417546   3620,0    10-2-176  0779809517025\n",
       "26739    1630,0    10-1-112  4005900072757\n",
       "248257   1560,0     2-3-248  7791290011953\n",
       "88917    4099,0      7-1-37  7790040534506\n",
       "...         ...         ...            ...\n",
       "283057   3269,0      14-1-8  7791600844561\n",
       "208893  13599,0   11-5-3603  0007790895001\n",
       "223581   1278,0   11-5-1002  7790990586808\n",
       "141761   2090,0    10-1-210  7790310981795\n",
       "244811   1171,0       1-1-7  7791290008465\n",
       "\n",
       "[100 rows x 3 columns]"
      ]
     },
     "execution_count": 57,
     "metadata": {},
     "output_type": "execute_result"
    }
   ],
   "source": [
    "df.sample(100)\n"
   ]
  },
  {
   "cell_type": "code",
   "execution_count": 10,
   "metadata": {},
   "outputs": [],
   "source": [
    "df.to_csv('precios_semanas_20200426_ok.csv', index=False)"
   ]
  }
 ],
 "metadata": {
  "kernelspec": {
   "display_name": "Python 3.10.4 64-bit",
   "language": "python",
   "name": "python3"
  },
  "language_info": {
   "codemirror_mode": {
    "name": "ipython",
    "version": 3
   },
   "file_extension": ".py",
   "mimetype": "text/x-python",
   "name": "python",
   "nbconvert_exporter": "python",
   "pygments_lexer": "ipython3",
   "version": "3.10.4"
  },
  "orig_nbformat": 4,
  "vscode": {
   "interpreter": {
    "hash": "c01cf4a2356650b355da24661dd0626acaa1665bc8e66dede1d15fa072b6b8b3"
   }
  }
 },
 "nbformat": 4,
 "nbformat_minor": 2
}
