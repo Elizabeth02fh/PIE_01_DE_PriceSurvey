{
 "cells": [
  {
   "cell_type": "code",
   "execution_count": 2,
   "metadata": {},
   "outputs": [
    {
     "data": {
      "text/html": [
       "<div>\n",
       "<style scoped>\n",
       "    .dataframe tbody tr th:only-of-type {\n",
       "        vertical-align: middle;\n",
       "    }\n",
       "\n",
       "    .dataframe tbody tr th {\n",
       "        vertical-align: top;\n",
       "    }\n",
       "\n",
       "    .dataframe thead th {\n",
       "        text-align: right;\n",
       "    }\n",
       "</style>\n",
       "<table border=\"1\" class=\"dataframe\">\n",
       "  <thead>\n",
       "    <tr style=\"text-align: right;\">\n",
       "      <th></th>\n",
       "      <th>id</th>\n",
       "      <th>marca</th>\n",
       "      <th>nombre</th>\n",
       "      <th>presentacion</th>\n",
       "    </tr>\n",
       "  </thead>\n",
       "  <tbody>\n",
       "    <tr>\n",
       "      <th>0</th>\n",
       "      <td>0000000001663</td>\n",
       "      <td>LA ANÃNIMA</td>\n",
       "      <td>Radicheta Atada La Anonima 1 Un</td>\n",
       "      <td>1.0 un</td>\n",
       "    </tr>\n",
       "    <tr>\n",
       "      <th>1</th>\n",
       "      <td>0000000002288</td>\n",
       "      <td>LA ANÃNIMA</td>\n",
       "      <td>Perejil Atado La Anonima 1 Un</td>\n",
       "      <td>1.0 un</td>\n",
       "    </tr>\n",
       "    <tr>\n",
       "      <th>2</th>\n",
       "      <td>0000000205870</td>\n",
       "      <td>SIN MARCA</td>\n",
       "      <td>Ojo de Bife 1 Kg</td>\n",
       "      <td>1.0 kg</td>\n",
       "    </tr>\n",
       "    <tr>\n",
       "      <th>3</th>\n",
       "      <td>0000000205894</td>\n",
       "      <td>SIN MARCA</td>\n",
       "      <td>Milanesa de Peceto Novillito 1 Kg</td>\n",
       "      <td>1.0 kg</td>\n",
       "    </tr>\n",
       "    <tr>\n",
       "      <th>4</th>\n",
       "      <td>0000000205955</td>\n",
       "      <td>SIN MARCA</td>\n",
       "      <td>Chiquizuela Novillito 1 Kg</td>\n",
       "      <td>1.0 kg</td>\n",
       "    </tr>\n",
       "  </tbody>\n",
       "</table>\n",
       "</div>"
      ],
      "text/plain": [
       "              id        marca                             nombre presentacion\n",
       "0  0000000001663  LA ANÃNIMA    Radicheta Atada La Anonima 1 Un       1.0 un\n",
       "1  0000000002288  LA ANÃNIMA      Perejil Atado La Anonima 1 Un       1.0 un\n",
       "2  0000000205870    SIN MARCA                   Ojo de Bife 1 Kg       1.0 kg\n",
       "3  0000000205894    SIN MARCA  Milanesa de Peceto Novillito 1 Kg       1.0 kg\n",
       "4  0000000205955    SIN MARCA         Chiquizuela Novillito 1 Kg       1.0 kg"
      ]
     },
     "execution_count": 2,
     "metadata": {},
     "output_type": "execute_result"
    }
   ],
   "source": [
    "import pandas as pd\n",
    "df = pd.read_csv(r\"producto.csv\", sep=\",\", encoding=\"Latin-1\")\n",
    "#Eliminación de columnas no relevantes #inplace=True se usa dependiendo de si queremos hacer cambios al df original o no.\n",
    "df.drop(['categoria1','categoria2','categoria3'], axis = 1, inplace=True)\n",
    "df.head(5)"
   ]
  },
  {
   "cell_type": "code",
   "execution_count": 3,
   "metadata": {},
   "outputs": [
    {
     "data": {
      "text/html": [
       "<div>\n",
       "<style scoped>\n",
       "    .dataframe tbody tr th:only-of-type {\n",
       "        vertical-align: middle;\n",
       "    }\n",
       "\n",
       "    .dataframe tbody tr th {\n",
       "        vertical-align: top;\n",
       "    }\n",
       "\n",
       "    .dataframe thead th {\n",
       "        text-align: right;\n",
       "    }\n",
       "</style>\n",
       "<table border=\"1\" class=\"dataframe\">\n",
       "  <thead>\n",
       "    <tr style=\"text-align: right;\">\n",
       "      <th></th>\n",
       "      <th>id</th>\n",
       "      <th>marca</th>\n",
       "      <th>nombre</th>\n",
       "      <th>presentacion</th>\n",
       "    </tr>\n",
       "  </thead>\n",
       "  <tbody>\n",
       "    <tr>\n",
       "      <th>48257</th>\n",
       "      <td>7794580000026</td>\n",
       "      <td>MOCOVI</td>\n",
       "      <td>Arroz Largo Ancho 00000 Mocovi 500 Gr</td>\n",
       "      <td>500.0 gr</td>\n",
       "    </tr>\n",
       "    <tr>\n",
       "      <th>53857</th>\n",
       "      <td>7798025516554</td>\n",
       "      <td>SMELL FRESH</td>\n",
       "      <td>Aromatizante Chocolate Smell Fresh 262 Ml</td>\n",
       "      <td>262.0 ml</td>\n",
       "    </tr>\n",
       "    <tr>\n",
       "      <th>22820</th>\n",
       "      <td>7790313001346</td>\n",
       "      <td>LA COLINA</td>\n",
       "      <td>Tomate Pelado Cubeteado La Colina 400 Gr</td>\n",
       "      <td>400.0 gr</td>\n",
       "    </tr>\n",
       "    <tr>\n",
       "      <th>52822</th>\n",
       "      <td>7798004430048</td>\n",
       "      <td>SHIM SHIM</td>\n",
       "      <td>Verdura Mixta para Sopa Shim Shim 400 Gr</td>\n",
       "      <td>400.0 gr</td>\n",
       "    </tr>\n",
       "    <tr>\n",
       "      <th>35211</th>\n",
       "      <td>7791337901216</td>\n",
       "      <td>YOGURÃSIMO</td>\n",
       "      <td>Yogur Entero Vainilla Yogurisimo 190 Gr</td>\n",
       "      <td>190.0 gr</td>\n",
       "    </tr>\n",
       "    <tr>\n",
       "      <th>...</th>\n",
       "      <td>...</td>\n",
       "      <td>...</td>\n",
       "      <td>...</td>\n",
       "      <td>...</td>\n",
       "    </tr>\n",
       "    <tr>\n",
       "      <th>59559</th>\n",
       "      <td>7798112168918</td>\n",
       "      <td>PATAGONIA CANDLES</td>\n",
       "      <td>Velas Cilindro 6 6 Citrus Patagonia Candles 1 Un</td>\n",
       "      <td>1.0 un</td>\n",
       "    </tr>\n",
       "    <tr>\n",
       "      <th>12576</th>\n",
       "      <td>5-1-0202089900000</td>\n",
       "      <td>SANCOR</td>\n",
       "      <td>Queso Cremosisimo Horma Sancor 1 Kg</td>\n",
       "      <td>1.0 kg</td>\n",
       "    </tr>\n",
       "    <tr>\n",
       "      <th>16575</th>\n",
       "      <td>7614500010310</td>\n",
       "      <td>TOBLERONE</td>\n",
       "      <td>Chocolate Blanco Toblerone 100 Gr</td>\n",
       "      <td>100.0 gr</td>\n",
       "    </tr>\n",
       "    <tr>\n",
       "      <th>34773</th>\n",
       "      <td>7791293689111</td>\n",
       "      <td>PATRICHS</td>\n",
       "      <td>Desodorante L Uomo 164 Ml</td>\n",
       "      <td>164.0 ml</td>\n",
       "    </tr>\n",
       "    <tr>\n",
       "      <th>35095</th>\n",
       "      <td>7791337303010</td>\n",
       "      <td>SER</td>\n",
       "      <td>Postre Vainilla Pote Ser 100 Gr 2 Un</td>\n",
       "      <td>2.0 un</td>\n",
       "    </tr>\n",
       "  </tbody>\n",
       "</table>\n",
       "<p>100 rows × 4 columns</p>\n",
       "</div>"
      ],
      "text/plain": [
       "                      id              marca  \\\n",
       "48257      7794580000026             MOCOVI   \n",
       "53857      7798025516554        SMELL FRESH   \n",
       "22820      7790313001346          LA COLINA   \n",
       "52822      7798004430048          SHIM SHIM   \n",
       "35211      7791337901216        YOGURÃSIMO   \n",
       "...                  ...                ...   \n",
       "59559      7798112168918  PATAGONIA CANDLES   \n",
       "12576  5-1-0202089900000             SANCOR   \n",
       "16575      7614500010310          TOBLERONE   \n",
       "34773      7791293689111           PATRICHS   \n",
       "35095      7791337303010                SER   \n",
       "\n",
       "                                                 nombre presentacion  \n",
       "48257             Arroz Largo Ancho 00000 Mocovi 500 Gr     500.0 gr  \n",
       "53857         Aromatizante Chocolate Smell Fresh 262 Ml     262.0 ml  \n",
       "22820          Tomate Pelado Cubeteado La Colina 400 Gr     400.0 gr  \n",
       "52822          Verdura Mixta para Sopa Shim Shim 400 Gr     400.0 gr  \n",
       "35211           Yogur Entero Vainilla Yogurisimo 190 Gr     190.0 gr  \n",
       "...                                                 ...          ...  \n",
       "59559  Velas Cilindro 6 6 Citrus Patagonia Candles 1 Un       1.0 un  \n",
       "12576               Queso Cremosisimo Horma Sancor 1 Kg       1.0 kg  \n",
       "16575                 Chocolate Blanco Toblerone 100 Gr     100.0 gr  \n",
       "34773                         Desodorante L Uomo 164 Ml     164.0 ml  \n",
       "35095              Postre Vainilla Pote Ser 100 Gr 2 Un       2.0 un  \n",
       "\n",
       "[100 rows x 4 columns]"
      ]
     },
     "execution_count": 3,
     "metadata": {},
     "output_type": "execute_result"
    }
   ],
   "source": [
    "df.sample(100)"
   ]
  },
  {
   "cell_type": "code",
   "execution_count": 4,
   "metadata": {},
   "outputs": [
    {
     "data": {
      "text/plain": [
       "id              0\n",
       "marca           2\n",
       "nombre          2\n",
       "presentacion    2\n",
       "dtype: int64"
      ]
     },
     "execution_count": 4,
     "metadata": {},
     "output_type": "execute_result"
    }
   ],
   "source": [
    "#Verificación de datos faltantes\n",
    "contador=df.isnull().sum()\n",
    "contador"
   ]
  },
  {
   "cell_type": "code",
   "execution_count": 5,
   "metadata": {},
   "outputs": [],
   "source": [
    "#rellena los datos nulos, en base al valor de la siguiente fila.\n",
    "df=df.fillna(method=\"bfill\")"
   ]
  },
  {
   "cell_type": "code",
   "execution_count": 6,
   "metadata": {},
   "outputs": [
    {
     "data": {
      "text/plain": [
       "id              0\n",
       "marca           0\n",
       "nombre          0\n",
       "presentacion    0\n",
       "dtype: int64"
      ]
     },
     "execution_count": 6,
     "metadata": {},
     "output_type": "execute_result"
    }
   ],
   "source": [
    "#Verificación de datos faltantes\n",
    "contador=df.isnull().sum()\n",
    "contador"
   ]
  },
  {
   "cell_type": "code",
   "execution_count": 7,
   "metadata": {},
   "outputs": [
    {
     "data": {
      "text/plain": [
       "0"
      ]
     },
     "execution_count": 7,
     "metadata": {},
     "output_type": "execute_result"
    }
   ],
   "source": [
    "df.duplicated().sum()\n"
   ]
  },
  {
   "cell_type": "code",
   "execution_count": 8,
   "metadata": {},
   "outputs": [
    {
     "data": {
      "text/html": [
       "<div>\n",
       "<style scoped>\n",
       "    .dataframe tbody tr th:only-of-type {\n",
       "        vertical-align: middle;\n",
       "    }\n",
       "\n",
       "    .dataframe tbody tr th {\n",
       "        vertical-align: top;\n",
       "    }\n",
       "\n",
       "    .dataframe thead th {\n",
       "        text-align: right;\n",
       "    }\n",
       "</style>\n",
       "<table border=\"1\" class=\"dataframe\">\n",
       "  <thead>\n",
       "    <tr style=\"text-align: right;\">\n",
       "      <th></th>\n",
       "      <th>id</th>\n",
       "      <th>marca</th>\n",
       "      <th>nombre</th>\n",
       "      <th>presentacion</th>\n",
       "    </tr>\n",
       "  </thead>\n",
       "  <tbody>\n",
       "    <tr>\n",
       "      <th>0</th>\n",
       "      <td>0000000001663</td>\n",
       "      <td>LA ANÃNIMA</td>\n",
       "      <td>Radicheta Atada La Anonima 1 Un</td>\n",
       "      <td>1.0 un</td>\n",
       "    </tr>\n",
       "    <tr>\n",
       "      <th>1</th>\n",
       "      <td>0000000002288</td>\n",
       "      <td>LA ANÃNIMA</td>\n",
       "      <td>Perejil Atado La Anonima 1 Un</td>\n",
       "      <td>1.0 un</td>\n",
       "    </tr>\n",
       "    <tr>\n",
       "      <th>2</th>\n",
       "      <td>0000000205870</td>\n",
       "      <td>SIN MARCA</td>\n",
       "      <td>Ojo de Bife 1 Kg</td>\n",
       "      <td>1.0 kg</td>\n",
       "    </tr>\n",
       "    <tr>\n",
       "      <th>3</th>\n",
       "      <td>0000000205894</td>\n",
       "      <td>SIN MARCA</td>\n",
       "      <td>Milanesa de Peceto Novillito 1 Kg</td>\n",
       "      <td>1.0 kg</td>\n",
       "    </tr>\n",
       "    <tr>\n",
       "      <th>4</th>\n",
       "      <td>0000000205955</td>\n",
       "      <td>SIN MARCA</td>\n",
       "      <td>Chiquizuela Novillito 1 Kg</td>\n",
       "      <td>1.0 kg</td>\n",
       "    </tr>\n",
       "  </tbody>\n",
       "</table>\n",
       "</div>"
      ],
      "text/plain": [
       "              id        marca                             nombre presentacion\n",
       "0  0000000001663  LA ANÃNIMA    Radicheta Atada La Anonima 1 Un       1.0 un\n",
       "1  0000000002288  LA ANÃNIMA      Perejil Atado La Anonima 1 Un       1.0 un\n",
       "2  0000000205870    SIN MARCA                   Ojo de Bife 1 Kg       1.0 kg\n",
       "3  0000000205894    SIN MARCA  Milanesa de Peceto Novillito 1 Kg       1.0 kg\n",
       "4  0000000205955    SIN MARCA         Chiquizuela Novillito 1 Kg       1.0 kg"
      ]
     },
     "execution_count": 8,
     "metadata": {},
     "output_type": "execute_result"
    }
   ],
   "source": [
    "df.head()"
   ]
  },
  {
   "cell_type": "code",
   "execution_count": 10,
   "metadata": {},
   "outputs": [],
   "source": [
    "df.to_csv('producto_ok.csv', index=False)"
   ]
  }
 ],
 "metadata": {
  "kernelspec": {
   "display_name": "Python 3.10.4 64-bit",
   "language": "python",
   "name": "python3"
  },
  "language_info": {
   "codemirror_mode": {
    "name": "ipython",
    "version": 3
   },
   "file_extension": ".py",
   "mimetype": "text/x-python",
   "name": "python",
   "nbconvert_exporter": "python",
   "pygments_lexer": "ipython3",
   "version": "3.10.4"
  },
  "orig_nbformat": 4,
  "vscode": {
   "interpreter": {
    "hash": "c01cf4a2356650b355da24661dd0626acaa1665bc8e66dede1d15fa072b6b8b3"
   }
  }
 },
 "nbformat": 4,
 "nbformat_minor": 2
}
