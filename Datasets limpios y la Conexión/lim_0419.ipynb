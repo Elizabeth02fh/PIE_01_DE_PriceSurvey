{
 "cells": [
  {
   "cell_type": "code",
   "execution_count": 62,
   "metadata": {},
   "outputs": [
    {
     "data": {
      "text/html": [
       "<div>\n",
       "<style scoped>\n",
       "    .dataframe tbody tr th:only-of-type {\n",
       "        vertical-align: middle;\n",
       "    }\n",
       "\n",
       "    .dataframe tbody tr th {\n",
       "        vertical-align: top;\n",
       "    }\n",
       "\n",
       "    .dataframe thead th {\n",
       "        text-align: right;\n",
       "    }\n",
       "</style>\n",
       "<table border=\"1\" class=\"dataframe\">\n",
       "  <thead>\n",
       "    <tr style=\"text-align: right;\">\n",
       "      <th></th>\n",
       "      <th>precio</th>\n",
       "      <th>sucursal_id</th>\n",
       "      <th>producto_id</th>\n",
       "    </tr>\n",
       "  </thead>\n",
       "  <tbody>\n",
       "    <tr>\n",
       "      <th>0</th>\n",
       "      <td>29.90</td>\n",
       "      <td>2-1-184</td>\n",
       "      <td>2288</td>\n",
       "    </tr>\n",
       "    <tr>\n",
       "      <th>1</th>\n",
       "      <td>39.90</td>\n",
       "      <td>2-1-206</td>\n",
       "      <td>2288</td>\n",
       "    </tr>\n",
       "    <tr>\n",
       "      <th>2</th>\n",
       "      <td>499.99</td>\n",
       "      <td>9-1-430</td>\n",
       "      <td>205870</td>\n",
       "    </tr>\n",
       "    <tr>\n",
       "      <th>3</th>\n",
       "      <td>539.99</td>\n",
       "      <td>9-2-107</td>\n",
       "      <td>205870</td>\n",
       "    </tr>\n",
       "    <tr>\n",
       "      <th>4</th>\n",
       "      <td>539.99</td>\n",
       "      <td>5218-03-09 00:00:00</td>\n",
       "      <td>205870</td>\n",
       "    </tr>\n",
       "    <tr>\n",
       "      <th>5</th>\n",
       "      <td>589.99</td>\n",
       "      <td>9-1-430</td>\n",
       "      <td>205894</td>\n",
       "    </tr>\n",
       "    <tr>\n",
       "      <th>6</th>\n",
       "      <td>189.99</td>\n",
       "      <td>9-1-430</td>\n",
       "      <td>205955</td>\n",
       "    </tr>\n",
       "  </tbody>\n",
       "</table>\n",
       "</div>"
      ],
      "text/plain": [
       "   precio          sucursal_id producto_id\n",
       "0   29.90              2-1-184        2288\n",
       "1   39.90              2-1-206        2288\n",
       "2  499.99              9-1-430      205870\n",
       "3  539.99              9-2-107      205870\n",
       "4  539.99  5218-03-09 00:00:00      205870\n",
       "5  589.99              9-1-430      205894\n",
       "6  189.99              9-1-430      205955"
      ]
     },
     "execution_count": 62,
     "metadata": {},
     "output_type": "execute_result"
    }
   ],
   "source": [
    "import pandas as pd\n",
    "df = pd.read_csv(r\"precios_semanas_20200419.csv\", sep=\",\", encoding=\"Latin-1\")\n",
    "df.head(7)"
   ]
  },
  {
   "cell_type": "code",
   "execution_count": 63,
   "metadata": {},
   "outputs": [
    {
     "data": {
      "text/plain": [
       "precio         1807\n",
       "sucursal_id       0\n",
       "producto_id       0\n",
       "dtype: int64"
      ]
     },
     "execution_count": 63,
     "metadata": {},
     "output_type": "execute_result"
    }
   ],
   "source": [
    "#Verificación de datos faltantes\n",
    "contador=df.isnull().sum()\n",
    "contador"
   ]
  },
  {
   "cell_type": "code",
   "execution_count": 64,
   "metadata": {},
   "outputs": [],
   "source": [
    "#rellena los datos nulos, en base al valor de la siguiente fila.\n",
    "df=df.fillna(method=\"bfill\")"
   ]
  },
  {
   "cell_type": "code",
   "execution_count": 65,
   "metadata": {},
   "outputs": [
    {
     "data": {
      "text/plain": [
       "precio         0\n",
       "sucursal_id    0\n",
       "producto_id    0\n",
       "dtype: int64"
      ]
     },
     "execution_count": 65,
     "metadata": {},
     "output_type": "execute_result"
    }
   ],
   "source": [
    "#Verificación de datos faltantes\n",
    "contador=df.isnull().sum()\n",
    "contador"
   ]
  },
  {
   "cell_type": "code",
   "execution_count": 66,
   "metadata": {},
   "outputs": [],
   "source": [
    "#transformando: eliminando los 00:00:00\n",
    "df['sucursal_id'] = df['sucursal_id'].apply(lambda x: x.split(' ')[0])"
   ]
  },
  {
   "cell_type": "code",
   "execution_count": 67,
   "metadata": {},
   "outputs": [
    {
     "data": {
      "text/html": [
       "<div>\n",
       "<style scoped>\n",
       "    .dataframe tbody tr th:only-of-type {\n",
       "        vertical-align: middle;\n",
       "    }\n",
       "\n",
       "    .dataframe tbody tr th {\n",
       "        vertical-align: top;\n",
       "    }\n",
       "\n",
       "    .dataframe thead th {\n",
       "        text-align: right;\n",
       "    }\n",
       "</style>\n",
       "<table border=\"1\" class=\"dataframe\">\n",
       "  <thead>\n",
       "    <tr style=\"text-align: right;\">\n",
       "      <th></th>\n",
       "      <th>precio</th>\n",
       "      <th>sucursal_id</th>\n",
       "      <th>producto_id</th>\n",
       "    </tr>\n",
       "  </thead>\n",
       "  <tbody>\n",
       "    <tr>\n",
       "      <th>0</th>\n",
       "      <td>29.90</td>\n",
       "      <td>2-1-184</td>\n",
       "      <td>2288</td>\n",
       "    </tr>\n",
       "    <tr>\n",
       "      <th>1</th>\n",
       "      <td>39.90</td>\n",
       "      <td>2-1-206</td>\n",
       "      <td>2288</td>\n",
       "    </tr>\n",
       "    <tr>\n",
       "      <th>2</th>\n",
       "      <td>499.99</td>\n",
       "      <td>9-1-430</td>\n",
       "      <td>205870</td>\n",
       "    </tr>\n",
       "    <tr>\n",
       "      <th>3</th>\n",
       "      <td>539.99</td>\n",
       "      <td>9-2-107</td>\n",
       "      <td>205870</td>\n",
       "    </tr>\n",
       "    <tr>\n",
       "      <th>4</th>\n",
       "      <td>539.99</td>\n",
       "      <td>5218-03-09</td>\n",
       "      <td>205870</td>\n",
       "    </tr>\n",
       "  </tbody>\n",
       "</table>\n",
       "</div>"
      ],
      "text/plain": [
       "   precio sucursal_id producto_id\n",
       "0   29.90     2-1-184        2288\n",
       "1   39.90     2-1-206        2288\n",
       "2  499.99     9-1-430      205870\n",
       "3  539.99     9-2-107      205870\n",
       "4  539.99  5218-03-09      205870"
      ]
     },
     "execution_count": 67,
     "metadata": {},
     "output_type": "execute_result"
    }
   ],
   "source": [
    "df.head(5)"
   ]
  },
  {
   "cell_type": "code",
   "execution_count": 68,
   "metadata": {},
   "outputs": [
    {
     "data": {
      "text/plain": [
       "precio         float64\n",
       "sucursal_id     object\n",
       "producto_id     object\n",
       "dtype: object"
      ]
     },
     "execution_count": 68,
     "metadata": {},
     "output_type": "execute_result"
    }
   ],
   "source": [
    "df.dtypes"
   ]
  },
  {
   "cell_type": "code",
   "execution_count": 69,
   "metadata": {},
   "outputs": [],
   "source": [
    "def normalizar_producto_id(id):\n",
    "    if (type(id)!=str):\n",
    "        return id\n",
    "    cantidad_caracter = len(id)\n",
    "    if (len(id) < 13):\n",
    "        id = '0'*(13-cantidad_caracter)+id\n",
    "    return id"
   ]
  },
  {
   "cell_type": "code",
   "execution_count": 70,
   "metadata": {},
   "outputs": [],
   "source": [
    "df['producto_id'] = df['producto_id'].apply(normalizar_producto_id)"
   ]
  },
  {
   "cell_type": "code",
   "execution_count": 71,
   "metadata": {},
   "outputs": [
    {
     "data": {
      "text/html": [
       "<div>\n",
       "<style scoped>\n",
       "    .dataframe tbody tr th:only-of-type {\n",
       "        vertical-align: middle;\n",
       "    }\n",
       "\n",
       "    .dataframe tbody tr th {\n",
       "        vertical-align: top;\n",
       "    }\n",
       "\n",
       "    .dataframe thead th {\n",
       "        text-align: right;\n",
       "    }\n",
       "</style>\n",
       "<table border=\"1\" class=\"dataframe\">\n",
       "  <thead>\n",
       "    <tr style=\"text-align: right;\">\n",
       "      <th></th>\n",
       "      <th>precio</th>\n",
       "      <th>sucursal_id</th>\n",
       "      <th>producto_id</th>\n",
       "    </tr>\n",
       "  </thead>\n",
       "  <tbody>\n",
       "    <tr>\n",
       "      <th>0</th>\n",
       "      <td>29.90</td>\n",
       "      <td>2-1-184</td>\n",
       "      <td>0000000002288</td>\n",
       "    </tr>\n",
       "    <tr>\n",
       "      <th>1</th>\n",
       "      <td>39.90</td>\n",
       "      <td>2-1-206</td>\n",
       "      <td>0000000002288</td>\n",
       "    </tr>\n",
       "    <tr>\n",
       "      <th>2</th>\n",
       "      <td>499.99</td>\n",
       "      <td>9-1-430</td>\n",
       "      <td>0000000205870</td>\n",
       "    </tr>\n",
       "    <tr>\n",
       "      <th>3</th>\n",
       "      <td>539.99</td>\n",
       "      <td>9-2-107</td>\n",
       "      <td>0000000205870</td>\n",
       "    </tr>\n",
       "    <tr>\n",
       "      <th>4</th>\n",
       "      <td>539.99</td>\n",
       "      <td>5218-03-09</td>\n",
       "      <td>0000000205870</td>\n",
       "    </tr>\n",
       "  </tbody>\n",
       "</table>\n",
       "</div>"
      ],
      "text/plain": [
       "   precio sucursal_id    producto_id\n",
       "0   29.90     2-1-184  0000000002288\n",
       "1   39.90     2-1-206  0000000002288\n",
       "2  499.99     9-1-430  0000000205870\n",
       "3  539.99     9-2-107  0000000205870\n",
       "4  539.99  5218-03-09  0000000205870"
      ]
     },
     "execution_count": 71,
     "metadata": {},
     "output_type": "execute_result"
    }
   ],
   "source": [
    "df.head()"
   ]
  },
  {
   "cell_type": "code",
   "execution_count": 72,
   "metadata": {},
   "outputs": [
    {
     "name": "stderr",
     "output_type": "stream",
     "text": [
      "C:\\Users\\HP SUPPORT\\AppData\\Local\\Temp\\ipykernel_1860\\219681451.py:3: SettingWithCopyWarning: \n",
      "A value is trying to be set on a copy of a slice from a DataFrame\n",
      "\n",
      "See the caveats in the documentation: https://pandas.pydata.org/pandas-docs/stable/user_guide/indexing.html#returning-a-view-versus-a-copy\n",
      "  df['precio'][i] = str(df['precio'][i])\n"
     ]
    }
   ],
   "source": [
    "#cambiamos de \".\" a \",\"\n",
    "for i, elemento in enumerate(df['precio']):\n",
    "   df['precio'][i] = str(df['precio'][i])\n",
    "   #Transformaciones en los campos numéricos\n",
    "for i, elemento in enumerate(df['precio']):\n",
    "   elemento = elemento.replace('.', ',')\n",
    "   df['precio'][i] = elemento"
   ]
  },
  {
   "cell_type": "code",
   "execution_count": 73,
   "metadata": {},
   "outputs": [
    {
     "data": {
      "text/html": [
       "<div>\n",
       "<style scoped>\n",
       "    .dataframe tbody tr th:only-of-type {\n",
       "        vertical-align: middle;\n",
       "    }\n",
       "\n",
       "    .dataframe tbody tr th {\n",
       "        vertical-align: top;\n",
       "    }\n",
       "\n",
       "    .dataframe thead th {\n",
       "        text-align: right;\n",
       "    }\n",
       "</style>\n",
       "<table border=\"1\" class=\"dataframe\">\n",
       "  <thead>\n",
       "    <tr style=\"text-align: right;\">\n",
       "      <th></th>\n",
       "      <th>precio</th>\n",
       "      <th>sucursal_id</th>\n",
       "      <th>producto_id</th>\n",
       "    </tr>\n",
       "  </thead>\n",
       "  <tbody>\n",
       "    <tr>\n",
       "      <th>0</th>\n",
       "      <td>29,9</td>\n",
       "      <td>2-1-184</td>\n",
       "      <td>0000000002288</td>\n",
       "    </tr>\n",
       "    <tr>\n",
       "      <th>1</th>\n",
       "      <td>39,9</td>\n",
       "      <td>2-1-206</td>\n",
       "      <td>0000000002288</td>\n",
       "    </tr>\n",
       "    <tr>\n",
       "      <th>2</th>\n",
       "      <td>499,99</td>\n",
       "      <td>9-1-430</td>\n",
       "      <td>0000000205870</td>\n",
       "    </tr>\n",
       "    <tr>\n",
       "      <th>3</th>\n",
       "      <td>539,99</td>\n",
       "      <td>9-2-107</td>\n",
       "      <td>0000000205870</td>\n",
       "    </tr>\n",
       "    <tr>\n",
       "      <th>4</th>\n",
       "      <td>539,99</td>\n",
       "      <td>5218-03-09</td>\n",
       "      <td>0000000205870</td>\n",
       "    </tr>\n",
       "  </tbody>\n",
       "</table>\n",
       "</div>"
      ],
      "text/plain": [
       "   precio sucursal_id    producto_id\n",
       "0    29,9     2-1-184  0000000002288\n",
       "1    39,9     2-1-206  0000000002288\n",
       "2  499,99     9-1-430  0000000205870\n",
       "3  539,99     9-2-107  0000000205870\n",
       "4  539,99  5218-03-09  0000000205870"
      ]
     },
     "execution_count": 73,
     "metadata": {},
     "output_type": "execute_result"
    }
   ],
   "source": [
    "df.head()"
   ]
  },
  {
   "cell_type": "code",
   "execution_count": 74,
   "metadata": {},
   "outputs": [],
   "source": [
    "df.to_csv('precios_semanas_20200419_ok.csv', index=False)"
   ]
  }
 ],
 "metadata": {
  "kernelspec": {
   "display_name": "Python 3.10.4 64-bit",
   "language": "python",
   "name": "python3"
  },
  "language_info": {
   "codemirror_mode": {
    "name": "ipython",
    "version": 3
   },
   "file_extension": ".py",
   "mimetype": "text/x-python",
   "name": "python",
   "nbconvert_exporter": "python",
   "pygments_lexer": "ipython3",
   "version": "3.10.4"
  },
  "orig_nbformat": 4,
  "vscode": {
   "interpreter": {
    "hash": "c01cf4a2356650b355da24661dd0626acaa1665bc8e66dede1d15fa072b6b8b3"
   }
  }
 },
 "nbformat": 4,
 "nbformat_minor": 2
}
