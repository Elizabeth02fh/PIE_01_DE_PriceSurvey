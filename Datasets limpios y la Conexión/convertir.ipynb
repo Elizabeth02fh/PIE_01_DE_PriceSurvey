{
 "cells": [
  {
   "cell_type": "code",
   "execution_count": 87,
   "metadata": {},
   "outputs": [],
   "source": [
    "import pandas as pd"
   ]
  },
  {
   "cell_type": "code",
   "execution_count": 89,
   "metadata": {},
   "outputs": [],
   "source": [
    "df6 = pd.read_csv(r\"precios_semana_20200413.csv\", encoding=\"utf-16\")\n",
    "df6.to_csv(r'precios_semana_20200413.csv', encoding=\"utf-8\", index= False)"
   ]
  },
  {
   "cell_type": "code",
   "execution_count": null,
   "metadata": {},
   "outputs": [],
   "source": [
    "df1 = pd.read_csv(r\"precios_semana_20200518.txt\", encoding=\"Latin-1\")\n",
    "df1.to_csv(r'precios_semana_20200518.csv', index= False)"
   ]
  },
  {
   "cell_type": "code",
   "execution_count": 70,
   "metadata": {},
   "outputs": [],
   "source": [
    "#!pip install fastparquet \n",
    "df2 = pd.read_parquet(r'producto.parquet')\n",
    "df2.to_csv(r'producto.csv', index= False)"
   ]
  },
  {
   "cell_type": "code",
   "execution_count": null,
   "metadata": {},
   "outputs": [],
   "source": [
    "#import json\n",
    "df = pd.read_json('precios_semana_20200503.json')\n",
    "df.to_csv('precios_semana_20200503.csv', index= False)"
   ]
  },
  {
   "cell_type": "code",
   "execution_count": null,
   "metadata": {},
   "outputs": [],
   "source": [
    "#pip install openpyxl\n",
    "df3 = pd.read_excel('precios_semanas_20200419.xlsx', index_col=0)\n",
    "df3.to_csv('precios_semanas_20200419.csv')"
   ]
  },
  {
   "cell_type": "code",
   "execution_count": 83,
   "metadata": {},
   "outputs": [],
   "source": [
    "#!pip install openpyxl\n",
    "df4 = pd.read_excel('precios_semanas_20200426.xlsx', index_col=0)\n",
    "df4.to_csv('precios_semanas_20200426.csv')"
   ]
  },
  {
   "cell_type": "code",
   "execution_count": null,
   "metadata": {},
   "outputs": [],
   "source": [
    "import pandas as pd\n",
    "df5 = pd.ExcelFile(r'precios_semanas_20200419_20200426.xlsx')"
   ]
  },
  {
   "cell_type": "code",
   "execution_count": null,
   "metadata": {},
   "outputs": [
    {
     "data": {
      "text/plain": [
       "['precios_20200426_20200426', 'precios_20200419_20200419']"
      ]
     },
     "execution_count": 45,
     "metadata": {},
     "output_type": "execute_result"
    }
   ],
   "source": [
    "df5.sheet_names"
   ]
  },
  {
   "cell_type": "code",
   "execution_count": null,
   "metadata": {},
   "outputs": [],
   "source": [
    "df5.parse(['precios_20200426_20200426', 'precios_20200419_20200419'])"
   ]
  },
  {
   "cell_type": "code",
   "execution_count": 68,
   "metadata": {},
   "outputs": [],
   "source": [
    "df5.close()"
   ]
  }
 ],
 "metadata": {
  "kernelspec": {
   "display_name": "Python 3.10.4 64-bit",
   "language": "python",
   "name": "python3"
  },
  "language_info": {
   "codemirror_mode": {
    "name": "ipython",
    "version": 3
   },
   "file_extension": ".py",
   "mimetype": "text/x-python",
   "name": "python",
   "nbconvert_exporter": "python",
   "pygments_lexer": "ipython3",
   "version": "3.10.4"
  },
  "orig_nbformat": 4,
  "vscode": {
   "interpreter": {
    "hash": "c01cf4a2356650b355da24661dd0626acaa1665bc8e66dede1d15fa072b6b8b3"
   }
  }
 },
 "nbformat": 4,
 "nbformat_minor": 2
}
